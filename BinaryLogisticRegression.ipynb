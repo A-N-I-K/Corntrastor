{
 "cells": [
  {
   "cell_type": "code",
   "execution_count": 105,
   "metadata": {},
   "outputs": [],
   "source": [
    "import pandas as pd\n",
    "from matplotlib import pyplot as plt\n",
    "from sklearn.model_selection import train_test_split\n",
    "from sklearn.preprocessing import StandardScaler\n",
    "from sklearn.linear_model import LogisticRegression\n",
    "from sklearn.metrics import roc_auc_score\n",
    "from sklearn.metrics import classification_report\n",
    "from sklearn.metrics import roc_curve\n",
    "from sklearn.metrics import accuracy_score\n",
    "#Binary logistic regression for density model using different combination of x variable to fit logistic model\n",
    "#class10:  1/0 classification data represents lodging and non-lodging corns. Regarding >=10% as 1(lodging), else 0(nonlodging)\n",
    "#class20: Regarding >=20% as 1(lodging), else 0(nonlodging)"
   ]
  },
  {
   "cell_type": "code",
   "execution_count": 106,
   "metadata": {},
   "outputs": [
    {
     "data": {
      "text/plain": [
       "Index(['Plot', 'ID', 'Percent', 'TotalMSE', 'TotalMean', 'dev1', 'dev2',\n",
       "       'dev3', 'dev4', 'mean1', 'mean2', 'mean3', 'mean4', 'class10',\n",
       "       'class20'],\n",
       "      dtype='object')"
      ]
     },
     "execution_count": 106,
     "metadata": {},
     "output_type": "execute_result"
    }
   ],
   "source": [
    "fileName = \"densityFit/filter3_4rows.csv\"\n",
    "density_4rows = pd.read_csv(fileName)\n",
    "density_4rows.columns"
   ]
  },
  {
   "cell_type": "code",
   "execution_count": 107,
   "metadata": {},
   "outputs": [
    {
     "data": {
      "text/plain": [
       "<matplotlib.collections.PathCollection at 0x227d4f61860>"
      ]
     },
     "execution_count": 107,
     "metadata": {},
     "output_type": "execute_result"
    },
    {
     "data": {
      "image/png": "[encoded data removed]",
      "text/plain": [
       "<Figure size 432x288 with 1 Axes>"
      ]
     },
     "metadata": {
      "needs_background": "light"
     },
     "output_type": "display_data"
    }
   ],
   "source": [
    "#scatter plot of TotalMSE and class10\n",
    "plt.scatter(density_4rows.TotalMSE, density_4rows.class10, marker = '+', color = 'red')"
   ]
  },
  {
   "cell_type": "code",
   "execution_count": 108,
   "metadata": {},
   "outputs": [
    {
     "data": {
      "text/plain": [
       "<matplotlib.collections.PathCollection at 0x227d4fbf710>"
      ]
     },
     "execution_count": 108,
     "metadata": {},
     "output_type": "execute_result"
    },
    {
     "data": {
      "image/png": "[encoded data removed]",
      "text/plain": [
       "<Figure size 432x288 with 1 Axes>"
      ]
     },
     "metadata": {
      "needs_background": "light"
     },
     "output_type": "display_data"
    }
   ],
   "source": [
    "#scatter plot of TotalMSE and class20\n",
    "plt.scatter(density_4rows.TotalMSE, density_4rows.class20, marker = '*', color = 'green')"
   ]
  },
  {
   "cell_type": "code",
   "execution_count": 109,
   "metadata": {},
   "outputs": [],
   "source": [
    "#Create new dataFrame and put variables in.\n",
    "# X_tMSE only contains TotalMSE as X variable\n",
    "X_tMSE = pd.DataFrame()\n",
    "X_tMSE['TotalMSE'] = density_4rows['TotalMSE']\n",
    "\n",
    "# X_Mean only contains TotalMean as X variable\n",
    "X_Mean = pd.DataFrame()\n",
    "X_Mean['TOtalMean'] = density_4rows['TotalMean']\n",
    "\n",
    "# X_MSEdev contains TotalMSE and deviation arrays(ordered standard deviation for each row) as X variable\n",
    "X_MSEdev = pd.DataFrame()\n",
    "X_MSEdev['TotalMSE'] = density_4rows['TotalMSE']\n",
    "X_MSEdev['dev1'] = density_4rows['dev1']\n",
    "X_MSEdev['dev2'] = density_4rows['dev2']\n",
    "X_MSEdev['dev3'] = density_4rows['dev3']\n",
    "X_MSEdev['dev4'] = density_4rows['dev4']\n",
    "\n",
    "# X_devMean contains deviation arrays(ordered standard deviation for each row) and Mean arrays (ordered mean for each row)as X variable\n",
    "X_devMean = pd.DataFrame()\n",
    "\n",
    "X_devMean['dev1'] = density_4rows['dev1']\n",
    "X_devMean['dev2'] = density_4rows['dev2']\n",
    "X_devMean['dev3'] = density_4rows['dev3']\n",
    "X_devMean['dev4'] = density_4rows['dev4']\n",
    "X_devMean['mean1'] = density_4rows['mean1']\n",
    "X_devMean['mean2'] = density_4rows['mean2']\n",
    "X_devMean['mean3'] = density_4rows['mean3']\n",
    "X_devMean['mean4'] = density_4rows['mean4']\n",
    "\n",
    "\n",
    "y1 = density_4rows['class10']\n",
    "y2 = density_4rows['class20']\n",
    "\n",
    "\n"
   ]
  },
  {
   "cell_type": "code",
   "execution_count": 110,
   "metadata": {},
   "outputs": [],
   "source": [
    "#scale figures\n",
    "scaler1 = StandardScaler()\n",
    "X_MSEdev = scaler1.fit_transform(X_MSEdev)\n",
    "\n",
    "scaler2 = StandardScaler()\n",
    "X_devMean = scaler2.fit_transform(X_devMean)\n",
    "\n",
    "\n"
   ]
  },
  {
   "cell_type": "code",
   "execution_count": 111,
   "metadata": {},
   "outputs": [],
   "source": [
    "X1_train, X1_test, y1_train, y1_test = train_test_split(X_tMSE,y2,test_size=0.5,random_state=42)"
   ]
  },
  {
   "cell_type": "code",
   "execution_count": 112,
   "metadata": {},
   "outputs": [
    {
     "name": "stdout",
     "output_type": "stream",
     "text": [
      "Logistic accuracy is 0.82\n",
      "Logistic AUC = 0.62\n",
      "              precision    recall  f1-score   support\n",
      "\n",
      "           0       0.81      1.00      0.90        26\n",
      "           1       1.00      0.25      0.40         8\n",
      "\n",
      "    accuracy                           0.82        34\n",
      "   macro avg       0.91      0.62      0.65        34\n",
      "weighted avg       0.86      0.82      0.78        34\n",
      "\n"
     ]
    },
    {
     "name": "stderr",
     "output_type": "stream",
     "text": [
      "C:\\Users\\Jieyun Hu\\Anaconda3\\envs\\image\\lib\\site-packages\\sklearn\\linear_model\\logistic.py:432: FutureWarning: Default solver will be changed to 'lbfgs' in 0.22. Specify a solver to silence this warning.\n",
      "  FutureWarning)\n"
     ]
    },
    {
     "data": {
      "image/png": "[encoded data removed]",
      "text/plain": [
       "<Figure size 432x288 with 1 Axes>"
      ]
     },
     "metadata": {
      "needs_background": "light"
     },
     "output_type": "display_data"
    }
   ],
   "source": [
    "model_MSE = LogisticRegression(penalty='l2',C=2)\n",
    "model_MSE.fit(X1_train,y1_train)\n",
    "print(\"Logistic accuracy is %2.2f\" % accuracy_score(y1_test, model_MSE.predict(X1_test)))\n",
    "logit_roc_auc1 = roc_auc_score(y1_test,model_MSE.predict(X1_test))\n",
    "print(\"Logistic AUC = %2.2f\" % logit_roc_auc1)\n",
    "print (classification_report(y1_test,model_MSE.predict(X1_test)))\n",
    "fpr, tpr, thresholds = roc_curve(y1_test, model_MSE.predict_proba(X1_test)[:,1])\n",
    "plt.figure()\n",
    "plt.plot(fpr,tpr)\n",
    "plt.plot([0,1],[0,1],'k--')\n",
    "plt.show()"
   ]
  },
  {
   "cell_type": "code",
   "execution_count": 113,
   "metadata": {},
   "outputs": [
    {
     "name": "stdout",
     "output_type": "stream",
     "text": [
      "Logistic accuracy is 0.76\n",
      "Logistic AUC = 0.50\n",
      "              precision    recall  f1-score   support\n",
      "\n",
      "           0       0.76      1.00      0.87        26\n",
      "           1       0.00      0.00      0.00         8\n",
      "\n",
      "    accuracy                           0.76        34\n",
      "   macro avg       0.38      0.50      0.43        34\n",
      "weighted avg       0.58      0.76      0.66        34\n",
      "\n"
     ]
    },
    {
     "name": "stderr",
     "output_type": "stream",
     "text": [
      "C:\\Users\\Jieyun Hu\\Anaconda3\\envs\\image\\lib\\site-packages\\sklearn\\linear_model\\logistic.py:432: FutureWarning: Default solver will be changed to 'lbfgs' in 0.22. Specify a solver to silence this warning.\n",
      "  FutureWarning)\n",
      "C:\\Users\\Jieyun Hu\\Anaconda3\\envs\\image\\lib\\site-packages\\sklearn\\metrics\\classification.py:1437: UndefinedMetricWarning: Precision and F-score are ill-defined and being set to 0.0 in labels with no predicted samples.\n",
      "  'precision', 'predicted', average, warn_for)\n"
     ]
    },
    {
     "data": {
      "image/png": "[encoded data removed]",
      "text/plain": [
       "<Figure size 432x288 with 1 Axes>"
      ]
     },
     "metadata": {
      "needs_background": "light"
     },
     "output_type": "display_data"
    }
   ],
   "source": [
    "# only fit with totalmean\n",
    "X2_train, X2_test, y2_train, y2_test = train_test_split(X_Mean,y2,test_size=0.5,random_state=42)\n",
    "model_Mean = LogisticRegression(penalty='l2',C=2)\n",
    "model_Mean.fit(X2_train,y2_train)\n",
    "print(\"Logistic accuracy is %2.2f\" % accuracy_score(y2_test, model_Mean.predict(X2_test)))\n",
    "logit_roc_auc2 = roc_auc_score(y2_test,model_Mean.predict(X2_test))\n",
    "print(\"Logistic AUC = %2.2f\" % logit_roc_auc2)\n",
    "print (classification_report(y2_test,model_Mean.predict(X2_test)))\n",
    "fpr, tpr, thresholds = roc_curve(y2_test, model_Mean.predict_proba(X2_test)[:,1])\n",
    "plt.figure()\n",
    "plt.plot(fpr,tpr)\n",
    "plt.plot([0,1],[0,1],'k--')\n",
    "plt.show()"
   ]
  },
  {
   "cell_type": "code",
   "execution_count": 114,
   "metadata": {},
   "outputs": [
    {
     "name": "stdout",
     "output_type": "stream",
     "text": [
      "Logistic accuracy is 0.82\n",
      "Logistic AUC = 0.62\n",
      "              precision    recall  f1-score   support\n",
      "\n",
      "           0       0.81      1.00      0.90        26\n",
      "           1       1.00      0.25      0.40         8\n",
      "\n",
      "    accuracy                           0.82        34\n",
      "   macro avg       0.91      0.62      0.65        34\n",
      "weighted avg       0.86      0.82      0.78        34\n",
      "\n"
     ]
    },
    {
     "name": "stderr",
     "output_type": "stream",
     "text": [
      "C:\\Users\\Jieyun Hu\\Anaconda3\\envs\\image\\lib\\site-packages\\sklearn\\linear_model\\logistic.py:432: FutureWarning: Default solver will be changed to 'lbfgs' in 0.22. Specify a solver to silence this warning.\n",
      "  FutureWarning)\n"
     ]
    },
    {
     "data": {
      "image/png": "[encoded data removed]",
      "text/plain": [
       "<Figure size 432x288 with 1 Axes>"
      ]
     },
     "metadata": {
      "needs_background": "light"
     },
     "output_type": "display_data"
    }
   ],
   "source": [
    "X3_train, X3_test, y3_train, y3_test = train_test_split(X_MSEdev,y2,test_size=0.5,random_state=42)\n",
    "model_MSEdev = LogisticRegression(penalty='l2',C=2)\n",
    "model_MSEdev.fit(X3_train,y3_train)\n",
    "print(\"Logistic accuracy is %2.2f\" % accuracy_score(y3_test, model_MSEdev.predict(X3_test)))\n",
    "logit_roc_auc3 = roc_auc_score(y3_test,model_MSEdev.predict(X3_test))\n",
    "print(\"Logistic AUC = %2.2f\" % logit_roc_auc3)\n",
    "print (classification_report(y3_test,model_MSEdev.predict(X3_test)))\n",
    "fpr, tpr, thresholds = roc_curve(y3_test, model_MSEdev.predict_proba(X3_test)[:,1])\n",
    "plt.figure()\n",
    "plt.plot(fpr,tpr)\n",
    "plt.plot([0,1],[0,1],'k--')\n",
    "plt.show()"
   ]
  },
  {
   "cell_type": "code",
   "execution_count": 115,
   "metadata": {},
   "outputs": [
    {
     "name": "stdout",
     "output_type": "stream",
     "text": [
      "Logistic accuracy is 0.88\n",
      "Logistic AUC = 0.79\n",
      "              precision    recall  f1-score   support\n",
      "\n",
      "           0       0.89      0.96      0.93        26\n",
      "           1       0.83      0.62      0.71         8\n",
      "\n",
      "    accuracy                           0.88        34\n",
      "   macro avg       0.86      0.79      0.82        34\n",
      "weighted avg       0.88      0.88      0.88        34\n",
      "\n"
     ]
    },
    {
     "name": "stderr",
     "output_type": "stream",
     "text": [
      "C:\\Users\\Jieyun Hu\\Anaconda3\\envs\\image\\lib\\site-packages\\sklearn\\linear_model\\logistic.py:432: FutureWarning: Default solver will be changed to 'lbfgs' in 0.22. Specify a solver to silence this warning.\n",
      "  FutureWarning)\n"
     ]
    },
    {
     "data": {
      "image/png": "[encoded data removed]",
      "text/plain": [
       "<Figure size 432x288 with 1 Axes>"
      ]
     },
     "metadata": {
      "needs_background": "light"
     },
     "output_type": "display_data"
    }
   ],
   "source": [
    "X4_train, X4_test, y4_train, y4_test = train_test_split(X_devMean,y2,test_size=0.5,random_state=42)\n",
    "model_devMean = LogisticRegression(penalty='l2',C=2)\n",
    "model_devMean.fit(X4_train,y4_train)\n",
    "print(\"Logistic accuracy is %2.2f\" % accuracy_score(y4_test, model_devMean.predict(X4_test)))\n",
    "logit_roc_auc4 = roc_auc_score(y4_test,model_devMean.predict(X4_test))\n",
    "print(\"Logistic AUC = %2.2f\" % logit_roc_auc4)\n",
    "print (classification_report(y4_test,model_devMean.predict(X4_test)))\n",
    "#ROC curve\n",
    "fpr, tpr, thresholds = roc_curve(y4_test, model_devMean.predict_proba(X4_test)[:,1])\n",
    "plt.figure()\n",
    "plt.plot(fpr,tpr)\n",
    "plt.plot([0,1],[0,1],'k--')\n",
    "plt.show()\n"
   ]
  },
  {
   "cell_type": "code",
   "execution_count": 117,
   "metadata": {},
   "outputs": [
    {
     "name": "stdout",
     "output_type": "stream",
     "text": [
      "dev1    -0.801864\n",
      "dev2    -0.258055\n",
      "dev3    -0.999529\n",
      "dev4     0.021003\n",
      "mean1    0.479024\n",
      "mean2    1.108425\n",
      "mean3    0.713064\n",
      "mean4    1.089124\n",
      "dtype: float64\n"
     ]
    }
   ],
   "source": [
    "weights_devMean = pd.Series(model_devMean.coef_[0], index = ['dev1','dev2','dev3','dev4','mean1','mean2','mean3','mean4'])\n",
    "print(weights_devMean)"
   ]
  },
  {
   "cell_type": "code",
   "execution_count": null,
   "metadata": {},
   "outputs": [],
   "source": []
  }
 ],
 "metadata": {
  "kernelspec": {
   "display_name": "Python 3",
   "language": "python",
   "name": "python3"
  },
  "language_info": {
   "codemirror_mode": {
    "name": "ipython",
    "version": 3
   },
   "file_extension": ".py",
   "mimetype": "text/x-python",
   "name": "python",
   "nbconvert_exporter": "python",
   "pygments_lexer": "ipython3",
   "version": "3.7.1"
  }
 },
 "nbformat": 4,
 "nbformat_minor": 2
}
